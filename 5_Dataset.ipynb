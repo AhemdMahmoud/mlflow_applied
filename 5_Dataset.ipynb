{
 "cells": [
  {
   "cell_type": "code",
   "execution_count": 6,
   "metadata": {},
   "outputs": [
    {
     "name": "stderr",
     "output_type": "stream",
     "text": [
      "2024/11/03 15:22:23 INFO mlflow.tracking.fluent: Experiment with name 'mlflow-irissignur' does not exist. Creating a new experiment.\n"
     ]
    },
    {
     "name": "stderr",
     "output_type": "stream",
     "text": [
      "2024/11/03 15:22:30 WARNING mlflow.utils.environment: Encountered an unexpected error while inferring pip requirements (model URI: C:\\Users\\k\\AppData\\Local\\Temp\\tmp0pcfv_k6\\model\\model.pkl, flavor: sklearn). Fall back to return ['scikit-learn==1.4.2', 'cloudpickle==3.1.0']. Set logging level to DEBUG to see the full traceback. \n"
     ]
    }
   ],
   "source": [
    "# mlflow\n",
    "import mlflow\n",
    "import mlflow.sklearn\n",
    "from mlflow.models.signature import infer_signature\n",
    "from mlflow.utils.environment import _mlflow_conda_env\n",
    "\n",
    "# sklearn\n",
    "from sklearn.model_selection import train_test_split\n",
    "from sklearn.metrics import accuracy_score\n",
    "from sklearn.ensemble import RandomForestClassifier\n",
    "\n",
    "# other\n",
    "import pandas as pd\n",
    "import numpy as np\n",
    "import os\n",
    "import boto3\n",
    "import tempfile\n",
    "mlflow.end_run()\n",
    "\n",
    "\n",
    "\n",
    "# set experiment\n",
    "mlflow.set_experiment('mlflow-irissignur')\n",
    "\n",
    "# load data\n",
    "from sklearn import datasets\n",
    "from sklearn.model_selection import train_test_split\n",
    "iris = datasets.load_iris() \n",
    "X = iris.data\n",
    "y = iris.target\n",
    "\n",
    "\n",
    "# train test split\n",
    "X_train, X_test, y_train, y_test = train_test_split(X, y, test_size=0.33, random_state=42)\n",
    "\n",
    "# train model\n",
    "model = RandomForestClassifier(n_estimators=100, max_depth=3, random_state=42)\n",
    "model.fit(X_train, y_train)\n",
    "\n",
    "# predict\n",
    "y_pred = model.predict(X_test)\n",
    "\n",
    "# calculate accuracy\n",
    "accuracy = accuracy_score(y_test, y_pred)\n",
    "\n",
    "# infer signature\n",
    "signature = infer_signature(X_train, model.predict(X_train))\n",
    "\n",
    "# start mlflow run\n",
    "with mlflow.start_run() as run:\n",
    "    # log parameters\n",
    "    mlflow.log_params(model.get_params())\n",
    "    \n",
    "\n",
    "    # log metrics\n",
    "    mlflow.log_metric('accuracy', accuracy)\n",
    "\n",
    "    # log model\n",
    "    mlflow.sklearn.log_model(model, 'model',signature=signature)\n",
    "\n",
    "    # log conda env\n",
    "    mlflow.log_dict(\n",
    "        _mlflow_conda_env(\n",
    "            None,\n",
    "            additional_conda_deps=None,\n",
    "            additional_pip_deps=['boto3'],\n",
    "            additional_conda_channels=None),\n",
    "        'conda.yaml')\n",
    "\n",
    "    # log data\n",
    "    # Convert X_train to a DataFrame if needed and save it as a CSV file\n",
    "    X_train_df = pd.DataFrame(X_train)\n",
    "    X_train_df.to_csv(\"X_train.csv\", index=False)\n",
    "\n",
    "    # Log the CSV file as an artifact\n",
    "    mlflow.log_artifact(\"X_train.csv\")"
   ]
  },
  {
   "cell_type": "code",
   "execution_count": null,
   "metadata": {},
   "outputs": [],
   "source": [
    "from sklearn import datasets\n",
    "from sklearn.model_selection import train_test_split"
   ]
  },
  {
   "cell_type": "code",
   "execution_count": null,
   "metadata": {},
   "outputs": [],
   "source": [
    "from sklearn.model_selection import train_test_split\n",
    "dataset = datasets.load_iris()\n",
    "X = dataset.data\n",
    "y = dataset.target\n",
    "X_train, X_test, y_train, y_test = train_test_split(X, y, test_size=0.2, random_state=42)\n",
    "\n"
   ]
  },
  {
   "cell_type": "code",
   "execution_count": null,
   "metadata": {},
   "outputs": [],
   "source": []
  },
  {
   "cell_type": "code",
   "execution_count": null,
   "metadata": {},
   "outputs": [],
   "source": []
  },
  {
   "cell_type": "code",
   "execution_count": null,
   "metadata": {},
   "outputs": [],
   "source": []
  }
 ],
 "metadata": {
  "kernelspec": {
   "display_name": "Python 3",
   "language": "python",
   "name": "python3"
  },
  "language_info": {
   "codemirror_mode": {
    "name": "ipython",
    "version": 3
   },
   "file_extension": ".py",
   "mimetype": "text/x-python",
   "name": "python",
   "nbconvert_exporter": "python",
   "pygments_lexer": "ipython3",
   "version": "3.12.2"
  }
 },
 "nbformat": 4,
 "nbformat_minor": 2
}
