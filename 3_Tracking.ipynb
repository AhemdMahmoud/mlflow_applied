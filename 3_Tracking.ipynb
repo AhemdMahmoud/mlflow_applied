{
 "cells": [
  {
   "cell_type": "markdown",
   "metadata": {
    "id": "XTarb5IP9TLK"
   },
   "source": [
    "classification task on the MNIST dataset."
   ]
  },
  {
   "cell_type": "code",
   "execution_count": 1,
   "metadata": {
    "colab": {
     "base_uri": "https://localhost:8080/"
    },
    "executionInfo": {
     "elapsed": 19737,
     "status": "ok",
     "timestamp": 1727113052510,
     "user": {
      "displayName": "eman Raslan",
      "userId": "05614135367355415925"
     },
     "user_tz": -180
    },
    "id": "zpzaH4VD9UyO",
    "outputId": "fc372b5e-ace7-4059-cb16-51c117acfd15"
   },
   "outputs": [
    {
     "name": "stdout",
     "output_type": "stream",
     "text": [
      "^C\n",
      "Note: you may need to restart the kernel to use updated packages.\n"
     ]
    },
    {
     "name": "stdout",
     "output_type": "stream",
     "text": [
      "Requirement already satisfied: mlflow in c:\\users\\k\\appdata\\local\\programs\\python\\python312\\lib\\site-packages (2.17.2)\n",
      "Requirement already satisfied: mlflow-skinny==2.17.2 in c:\\users\\k\\appdata\\local\\programs\\python\\python312\\lib\\site-packages (from mlflow) (2.17.2)\n",
      "Requirement already satisfied: Flask<4 in c:\\users\\k\\appdata\\local\\programs\\python\\python312\\lib\\site-packages (from mlflow) (3.0.3)\n",
      "Requirement already satisfied: alembic!=1.10.0,<2 in c:\\users\\k\\appdata\\local\\programs\\python\\python312\\lib\\site-packages (from mlflow) (1.13.3)\n",
      "Requirement already satisfied: docker<8,>=4.0.0 in c:\\users\\k\\appdata\\local\\programs\\python\\python312\\lib\\site-packages (from mlflow) (7.1.0)\n",
      "Requirement already satisfied: graphene<4 in c:\\users\\k\\appdata\\local\\programs\\python\\python312\\lib\\site-packages (from mlflow) (3.4.1)\n",
      "Requirement already satisfied: markdown<4,>=3.3 in c:\\users\\k\\appdata\\local\\programs\\python\\python312\\lib\\site-packages (from mlflow) (3.7)\n",
      "Requirement already satisfied: matplotlib<4 in c:\\users\\k\\appdata\\local\\programs\\python\\python312\\lib\\site-packages (from mlflow) (3.9.2)\n",
      "Requirement already satisfied: numpy<3 in c:\\users\\k\\appdata\\local\\programs\\python\\python312\\lib\\site-packages (from mlflow) (1.26.4)\n",
      "Requirement already satisfied: pandas<3 in c:\\users\\k\\appdata\\local\\programs\\python\\python312\\lib\\site-packages (from mlflow) (2.2.2)\n",
      "Requirement already satisfied: pyarrow<18,>=4.0.0 in c:\\users\\k\\appdata\\local\\programs\\python\\python312\\lib\\site-packages (from mlflow) (17.0.0)\n",
      "Requirement already satisfied: scikit-learn<2 in c:\\users\\k\\appdata\\local\\programs\\python\\python312\\lib\\site-packages (from mlflow) (1.4.2)\n",
      "Requirement already satisfied: scipy<2 in c:\\users\\k\\appdata\\local\\programs\\python\\python312\\lib\\site-packages (from mlflow) (1.14.1)\n",
      "Requirement already satisfied: sqlalchemy<3,>=1.4.0 in c:\\users\\k\\appdata\\local\\programs\\python\\python312\\lib\\site-packages (from mlflow) (2.0.36)\n",
      "Requirement already satisfied: Jinja2<4,>=3.0 in c:\\users\\k\\appdata\\local\\programs\\python\\python312\\lib\\site-packages (from mlflow) (3.1.4)\n",
      "Requirement already satisfied: waitress<4 in c:\\users\\k\\appdata\\local\\programs\\python\\python312\\lib\\site-packages (from mlflow) (3.0.1)\n",
      "Requirement already satisfied: cachetools<6,>=5.0.0 in c:\\users\\k\\appdata\\local\\programs\\python\\python312\\lib\\site-packages (from mlflow-skinny==2.17.2->mlflow) (5.5.0)\n",
      "Requirement already satisfied: click<9,>=7.0 in c:\\users\\k\\appdata\\local\\programs\\python\\python312\\lib\\site-packages (from mlflow-skinny==2.17.2->mlflow) (8.1.7)\n",
      "Requirement already satisfied: cloudpickle<4 in c:\\users\\k\\appdata\\local\\programs\\python\\python312\\lib\\site-packages (from mlflow-skinny==2.17.2->mlflow) (3.1.0)\n",
      "Requirement already satisfied: databricks-sdk<1,>=0.20.0 in c:\\users\\k\\appdata\\local\\programs\\python\\python312\\lib\\site-packages (from mlflow-skinny==2.17.2->mlflow) (0.36.0)\n",
      "Requirement already satisfied: gitpython<4,>=3.1.9 in c:\\users\\k\\appdata\\local\\programs\\python\\python312\\lib\\site-packages (from mlflow-skinny==2.17.2->mlflow) (3.1.43)\n",
      "Requirement already satisfied: importlib-metadata!=4.7.0,<9,>=3.7.0 in c:\\users\\k\\appdata\\local\\programs\\python\\python312\\lib\\site-packages (from mlflow-skinny==2.17.2->mlflow) (8.4.0)\n",
      "Requirement already satisfied: opentelemetry-api<3,>=1.9.0 in c:\\users\\k\\appdata\\local\\programs\\python\\python312\\lib\\site-packages (from mlflow-skinny==2.17.2->mlflow) (1.27.0)\n",
      "Requirement already satisfied: opentelemetry-sdk<3,>=1.9.0 in c:\\users\\k\\appdata\\local\\programs\\python\\python312\\lib\\site-packages (from mlflow-skinny==2.17.2->mlflow) (1.27.0)\n",
      "Requirement already satisfied: packaging<25 in c:\\users\\k\\appdata\\local\\programs\\python\\python312\\lib\\site-packages (from mlflow-skinny==2.17.2->mlflow) (21.3)\n",
      "Requirement already satisfied: protobuf<6,>=3.12.0 in c:\\users\\k\\appdata\\local\\programs\\python\\python312\\lib\\site-packages (from mlflow-skinny==2.17.2->mlflow) (4.25.4)\n",
      "Requirement already satisfied: pyyaml<7,>=5.1 in c:\\users\\k\\appdata\\local\\programs\\python\\python312\\lib\\site-packages (from mlflow-skinny==2.17.2->mlflow) (6.0.2)\n",
      "Requirement already satisfied: requests<3,>=2.17.3 in c:\\users\\k\\appdata\\local\\programs\\python\\python312\\lib\\site-packages (from mlflow-skinny==2.17.2->mlflow) (2.32.3)\n",
      "Requirement already satisfied: sqlparse<1,>=0.4.0 in c:\\users\\k\\appdata\\local\\programs\\python\\python312\\lib\\site-packages (from mlflow-skinny==2.17.2->mlflow) (0.5.1)\n",
      "Requirement already satisfied: Mako in c:\\users\\k\\appdata\\local\\programs\\python\\python312\\lib\\site-packages (from alembic!=1.10.0,<2->mlflow) (1.3.6)\n",
      "Requirement already satisfied: typing-extensions>=4 in c:\\users\\k\\appdata\\local\\programs\\python\\python312\\lib\\site-packages (from alembic!=1.10.0,<2->mlflow) (4.12.2)\n",
      "Requirement already satisfied: pywin32>=304 in c:\\users\\k\\appdata\\local\\programs\\python\\python312\\lib\\site-packages (from docker<8,>=4.0.0->mlflow) (306)\n",
      "Requirement already satisfied: urllib3>=1.26.0 in c:\\users\\k\\appdata\\local\\programs\\python\\python312\\lib\\site-packages (from docker<8,>=4.0.0->mlflow) (2.2.2)\n",
      "Requirement already satisfied: Werkzeug>=3.0.0 in c:\\users\\k\\appdata\\local\\programs\\python\\python312\\lib\\site-packages (from Flask<4->mlflow) (3.0.3)\n",
      "Requirement already satisfied: itsdangerous>=2.1.2 in c:\\users\\k\\appdata\\local\\programs\\python\\python312\\lib\\site-packages (from Flask<4->mlflow) (2.2.0)\n",
      "Requirement already satisfied: blinker>=1.6.2 in c:\\users\\k\\appdata\\local\\programs\\python\\python312\\lib\\site-packages (from Flask<4->mlflow) (1.8.2)\n",
      "Requirement already satisfied: graphql-core<3.3,>=3.1 in c:\\users\\k\\appdata\\local\\programs\\python\\python312\\lib\\site-packages (from graphene<4->mlflow) (3.2.5)\n",
      "Requirement already satisfied: graphql-relay<3.3,>=3.1 in c:\\users\\k\\appdata\\local\\programs\\python\\python312\\lib\\site-packages (from graphene<4->mlflow) (3.2.0)\n",
      "Requirement already satisfied: python-dateutil<3,>=2.7.0 in c:\\users\\k\\appdata\\local\\programs\\python\\python312\\lib\\site-packages (from graphene<4->mlflow) (2.9.0.post0)\n",
      "Requirement already satisfied: MarkupSafe>=2.0 in c:\\users\\k\\appdata\\local\\programs\\python\\python312\\lib\\site-packages (from Jinja2<4,>=3.0->mlflow) (2.1.5)\n",
      "Requirement already satisfied: contourpy>=1.0.1 in c:\\users\\k\\appdata\\local\\programs\\python\\python312\\lib\\site-packages (from matplotlib<4->mlflow) (1.2.1)\n",
      "Requirement already satisfied: cycler>=0.10 in c:\\users\\k\\appdata\\local\\programs\\python\\python312\\lib\\site-packages (from matplotlib<4->mlflow) (0.12.1)\n",
      "Requirement already satisfied: fonttools>=4.22.0 in c:\\users\\k\\appdata\\local\\programs\\python\\python312\\lib\\site-packages (from matplotlib<4->mlflow) (4.53.1)\n",
      "Requirement already satisfied: kiwisolver>=1.3.1 in c:\\users\\k\\appdata\\local\\programs\\python\\python312\\lib\\site-packages (from matplotlib<4->mlflow) (1.4.5)\n",
      "Requirement already satisfied: pillow>=8 in c:\\users\\k\\appdata\\local\\programs\\python\\python312\\lib\\site-packages (from matplotlib<4->mlflow) (10.4.0)\n",
      "Requirement already satisfied: pyparsing>=2.3.1 in c:\\users\\k\\appdata\\local\\programs\\python\\python312\\lib\\site-packages (from matplotlib<4->mlflow) (3.1.2)\n",
      "Requirement already satisfied: pytz>=2020.1 in c:\\users\\k\\appdata\\local\\programs\\python\\python312\\lib\\site-packages (from pandas<3->mlflow) (2024.1)\n",
      "Requirement already satisfied: tzdata>=2022.7 in c:\\users\\k\\appdata\\local\\programs\\python\\python312\\lib\\site-packages (from pandas<3->mlflow) (2024.1)\n",
      "Requirement already satisfied: joblib>=1.2.0 in c:\\users\\k\\appdata\\local\\programs\\python\\python312\\lib\\site-packages (from scikit-learn<2->mlflow) (1.2.0)\n",
      "Requirement already satisfied: threadpoolctl>=2.0.0 in c:\\users\\k\\appdata\\local\\programs\\python\\python312\\lib\\site-packages (from scikit-learn<2->mlflow) (3.5.0)\n",
      "Requirement already satisfied: greenlet!=0.4.17 in c:\\users\\k\\appdata\\local\\programs\\python\\python312\\lib\\site-packages (from sqlalchemy<3,>=1.4.0->mlflow) (3.1.1)\n",
      "Requirement already satisfied: colorama in c:\\users\\k\\appdata\\local\\programs\\python\\python312\\lib\\site-packages (from click<9,>=7.0->mlflow-skinny==2.17.2->mlflow) (0.4.6)\n",
      "Requirement already satisfied: google-auth~=2.0 in c:\\users\\k\\appdata\\local\\programs\\python\\python312\\lib\\site-packages (from databricks-sdk<1,>=0.20.0->mlflow-skinny==2.17.2->mlflow) (2.35.0)\n",
      "Requirement already satisfied: gitdb<5,>=4.0.1 in c:\\users\\k\\appdata\\local\\programs\\python\\python312\\lib\\site-packages (from gitpython<4,>=3.1.9->mlflow-skinny==2.17.2->mlflow) (4.0.11)\n",
      "Requirement already satisfied: zipp>=0.5 in c:\\users\\k\\appdata\\local\\programs\\python\\python312\\lib\\site-packages (from importlib-metadata!=4.7.0,<9,>=3.7.0->mlflow-skinny==2.17.2->mlflow) (3.20.2)\n",
      "Requirement already satisfied: deprecated>=1.2.6 in c:\\users\\k\\appdata\\local\\programs\\python\\python312\\lib\\site-packages (from opentelemetry-api<3,>=1.9.0->mlflow-skinny==2.17.2->mlflow) (1.2.14)\n",
      "Requirement already satisfied: opentelemetry-semantic-conventions==0.48b0 in c:\\users\\k\\appdata\\local\\programs\\python\\python312\\lib\\site-packages (from opentelemetry-sdk<3,>=1.9.0->mlflow-skinny==2.17.2->mlflow) (0.48b0)\n",
      "Requirement already satisfied: six>=1.5 in c:\\users\\k\\appdata\\local\\programs\\python\\python312\\lib\\site-packages (from python-dateutil<3,>=2.7.0->graphene<4->mlflow) (1.16.0)\n",
      "Requirement already satisfied: charset-normalizer<4,>=2 in c:\\users\\k\\appdata\\local\\programs\\python\\python312\\lib\\site-packages (from requests<3,>=2.17.3->mlflow-skinny==2.17.2->mlflow) (3.3.2)\n",
      "Requirement already satisfied: idna<4,>=2.5 in c:\\users\\k\\appdata\\local\\programs\\python\\python312\\lib\\site-packages (from requests<3,>=2.17.3->mlflow-skinny==2.17.2->mlflow) (3.8)\n",
      "Requirement already satisfied: certifi>=2017.4.17 in c:\\users\\k\\appdata\\local\\programs\\python\\python312\\lib\\site-packages (from requests<3,>=2.17.3->mlflow-skinny==2.17.2->mlflow) (2024.8.30)\n",
      "Requirement already satisfied: wrapt<2,>=1.10 in c:\\users\\k\\appdata\\local\\programs\\python\\python312\\lib\\site-packages (from deprecated>=1.2.6->opentelemetry-api<3,>=1.9.0->mlflow-skinny==2.17.2->mlflow) (1.16.0)\n",
      "Requirement already satisfied: smmap<6,>=3.0.1 in c:\\users\\k\\appdata\\local\\programs\\python\\python312\\lib\\site-packages (from gitdb<5,>=4.0.1->gitpython<4,>=3.1.9->mlflow-skinny==2.17.2->mlflow) (5.0.1)\n",
      "Requirement already satisfied: pyasn1-modules>=0.2.1 in c:\\users\\k\\appdata\\local\\programs\\python\\python312\\lib\\site-packages (from google-auth~=2.0->databricks-sdk<1,>=0.20.0->mlflow-skinny==2.17.2->mlflow) (0.4.1)\n",
      "Requirement already satisfied: rsa<5,>=3.1.4 in c:\\users\\k\\appdata\\local\\programs\\python\\python312\\lib\\site-packages (from google-auth~=2.0->databricks-sdk<1,>=0.20.0->mlflow-skinny==2.17.2->mlflow) (4.7.2)\n",
      "Requirement already satisfied: pyasn1<0.7.0,>=0.4.6 in c:\\users\\k\\appdata\\local\\programs\\python\\python312\\lib\\site-packages (from pyasn1-modules>=0.2.1->google-auth~=2.0->databricks-sdk<1,>=0.20.0->mlflow-skinny==2.17.2->mlflow) (0.6.0)\n"
     ]
    }
   ],
   "source": [
    "pip install mlflow"
   ]
  },
  {
   "cell_type": "code",
   "execution_count": 3,
   "metadata": {},
   "outputs": [
    {
     "name": "stdout",
     "output_type": "stream",
     "text": [
      "^C\n",
      "Note: you may need to restart the kernel to use updated packages.\n"
     ]
    },
    {
     "name": "stdout",
     "output_type": "stream",
     "text": [
      "Collecting keras\n",
      "  Downloading keras-3.6.0-py3-none-any.whl.metadata (5.8 kB)\n",
      "Requirement already satisfied: absl-py in c:\\users\\k\\appdata\\local\\programs\\python\\python312\\lib\\site-packages (from keras) (2.1.0)\n",
      "Requirement already satisfied: numpy in c:\\users\\k\\appdata\\local\\programs\\python\\python312\\lib\\site-packages (from keras) (1.26.4)\n",
      "Requirement already satisfied: rich in c:\\users\\k\\appdata\\local\\programs\\python\\python312\\lib\\site-packages (from keras) (13.8.1)\n",
      "Collecting namex (from keras)\n",
      "  Downloading namex-0.0.8-py3-none-any.whl.metadata (246 bytes)\n",
      "Collecting h5py (from keras)\n",
      "  Downloading h5py-3.12.1-cp312-cp312-win_amd64.whl.metadata (2.5 kB)\n",
      "Collecting optree (from keras)\n",
      "  Downloading optree-0.13.0-cp312-cp312-win_amd64.whl.metadata (48 kB)\n",
      "Requirement already satisfied: ml-dtypes in c:\\users\\k\\appdata\\local\\programs\\python\\python312\\lib\\site-packages (from keras) (0.4.0)\n",
      "Requirement already satisfied: packaging in c:\\users\\k\\appdata\\local\\programs\\python\\python312\\lib\\site-packages (from keras) (21.3)\n",
      "Requirement already satisfied: typing-extensions>=4.5.0 in c:\\users\\k\\appdata\\local\\programs\\python\\python312\\lib\\site-packages (from optree->keras) (4.12.2)\n",
      "Requirement already satisfied: pyparsing!=3.0.5,>=2.0.2 in c:\\users\\k\\appdata\\local\\programs\\python\\python312\\lib\\site-packages (from packaging->keras) (3.1.2)\n",
      "Requirement already satisfied: markdown-it-py>=2.2.0 in c:\\users\\k\\appdata\\local\\programs\\python\\python312\\lib\\site-packages (from rich->keras) (3.0.0)\n",
      "Requirement already satisfied: pygments<3.0.0,>=2.13.0 in c:\\users\\k\\appdata\\local\\programs\\python\\python312\\lib\\site-packages (from rich->keras) (2.18.0)\n",
      "Requirement already satisfied: mdurl~=0.1 in c:\\users\\k\\appdata\\local\\programs\\python\\python312\\lib\\site-packages (from markdown-it-py>=2.2.0->rich->keras) (0.1.2)\n",
      "Downloading keras-3.6.0-py3-none-any.whl (1.2 MB)\n",
      "   ---------------------------------------- 0.0/1.2 MB ? eta -:--:--\n",
      "   -------- ------------------------------- 0.3/1.2 MB ? eta -:--:--\n",
      "   ----------------- ---------------------- 0.5/1.2 MB 1.5 MB/s eta 0:00:01\n",
      "   -------------------------- ------------- 0.8/1.2 MB 1.5 MB/s eta 0:00:01\n",
      "   ---------------------------------------- 1.2/1.2 MB 1.4 MB/s eta 0:00:00\n",
      "Downloading h5py-3.12.1-cp312-cp312-win_amd64.whl (3.0 MB)\n",
      "   ---------------------------------------- 0.0/3.0 MB ? eta -:--:--\n",
      "   --- ------------------------------------ 0.3/3.0 MB ? eta -:--:--\n",
      "   --- ------------------------------------ 0.3/3.0 MB ? eta -:--:--\n",
      "   ------- -------------------------------- 0.5/3.0 MB 985.5 kB/s eta 0:00:03\n",
      "   ---------- ----------------------------- 0.8/3.0 MB 931.2 kB/s eta 0:00:03\n",
      "   -------------- ------------------------- 1.0/3.0 MB 1.0 MB/s eta 0:00:02\n",
      "   ----------------- ---------------------- 1.3/3.0 MB 1.1 MB/s eta 0:00:02\n",
      "   ------------------------ --------------- 1.8/3.0 MB 1.2 MB/s eta 0:00:01\n",
      "   ---------------------------- ----------- 2.1/3.0 MB 1.2 MB/s eta 0:00:01\n",
      "   ------------------------------- -------- 2.4/3.0 MB 1.3 MB/s eta 0:00:01\n",
      "   ----------------------------------- ---- 2.6/3.0 MB 1.3 MB/s eta 0:00:01\n",
      "   ---------------------------------------- 3.0/3.0 MB 1.3 MB/s eta 0:00:00\n",
      "Downloading namex-0.0.8-py3-none-any.whl (5.8 kB)\n",
      "Downloading optree-0.13.0-cp312-cp312-win_amd64.whl (283 kB)\n",
      "Installing collected packages: namex, optree, h5py, keras\n",
      "Successfully installed h5py-3.12.1 keras-3.6.0 namex-0.0.8 optree-0.13.0\n"
     ]
    }
   ],
   "source": [
    "pip install keras"
   ]
  },
  {
   "cell_type": "code",
   "execution_count": 2,
   "metadata": {
    "executionInfo": {
     "elapsed": 8567,
     "status": "ok",
     "timestamp": 1727113061074,
     "user": {
      "displayName": "eman Raslan",
      "userId": "05614135367355415925"
     },
     "user_tz": -180
    },
    "id": "oS5Pcyib9TLP"
   },
   "outputs": [
    {
     "ename": "ModuleNotFoundError",
     "evalue": "No module named 'keras'",
     "output_type": "error",
     "traceback": [
      "\u001b[1;31m---------------------------------------------------------------------------\u001b[0m",
      "\u001b[1;31mModuleNotFoundError\u001b[0m                       Traceback (most recent call last)",
      "Cell \u001b[1;32mIn[2], line 3\u001b[0m\n\u001b[0;32m      1\u001b[0m \u001b[38;5;66;03m# Import necessary libraries\u001b[39;00m\n\u001b[0;32m      2\u001b[0m \u001b[38;5;28;01mimport\u001b[39;00m \u001b[38;5;21;01mmlflow\u001b[39;00m\n\u001b[1;32m----> 3\u001b[0m \u001b[38;5;28;01mimport\u001b[39;00m \u001b[38;5;21;01mmlflow\u001b[39;00m\u001b[38;5;21;01m.\u001b[39;00m\u001b[38;5;21;01mkeras\u001b[39;00m\n\u001b[0;32m      4\u001b[0m \u001b[38;5;28;01mfrom\u001b[39;00m \u001b[38;5;21;01mtensorflow\u001b[39;00m\u001b[38;5;21;01m.\u001b[39;00m\u001b[38;5;21;01mkeras\u001b[39;00m\u001b[38;5;21;01m.\u001b[39;00m\u001b[38;5;21;01mmodels\u001b[39;00m \u001b[38;5;28;01mimport\u001b[39;00m Sequential\n\u001b[0;32m      5\u001b[0m \u001b[38;5;28;01mfrom\u001b[39;00m \u001b[38;5;21;01mtensorflow\u001b[39;00m\u001b[38;5;21;01m.\u001b[39;00m\u001b[38;5;21;01mkeras\u001b[39;00m\u001b[38;5;21;01m.\u001b[39;00m\u001b[38;5;21;01mlayers\u001b[39;00m \u001b[38;5;28;01mimport\u001b[39;00m Dense, Flatten\n",
      "File \u001b[1;32mc:\\Users\\k\\AppData\\Local\\Programs\\Python\\Python312\\Lib\\site-packages\\mlflow\\keras\\__init__.py:2\u001b[0m\n\u001b[0;32m      1\u001b[0m \u001b[38;5;66;03m# MLflow Keras 3 flavor.\u001b[39;00m\n\u001b[1;32m----> 2\u001b[0m \u001b[38;5;28;01mimport\u001b[39;00m \u001b[38;5;21;01mkeras\u001b[39;00m\n\u001b[0;32m      3\u001b[0m \u001b[38;5;28;01mfrom\u001b[39;00m \u001b[38;5;21;01mpackaging\u001b[39;00m\u001b[38;5;21;01m.\u001b[39;00m\u001b[38;5;21;01mversion\u001b[39;00m \u001b[38;5;28;01mimport\u001b[39;00m Version\n\u001b[0;32m      5\u001b[0m \u001b[38;5;28;01mif\u001b[39;00m Version(keras\u001b[38;5;241m.\u001b[39m__version__) \u001b[38;5;241m<\u001b[39m Version(\u001b[38;5;124m\"\u001b[39m\u001b[38;5;124m3.0.0\u001b[39m\u001b[38;5;124m\"\u001b[39m):\n",
      "\u001b[1;31mModuleNotFoundError\u001b[0m: No module named 'keras'"
     ]
    }
   ],
   "source": [
    "# Import necessary libraries\n",
    "import mlflow\n",
    "import mlflow.keras\n",
    "from tensorflow.keras.models import Sequential\n",
    "from tensorflow.keras.layers import Dense, Flatten\n",
    "from tensorflow.keras.optimizers import Adam\n",
    "from tensorflow.keras.losses import SparseCategoricalCrossentropy\n",
    "from tensorflow.keras.datasets import mnist\n",
    "from sklearn.model_selection import train_test_split\n",
    "import os"
   ]
  },
  {
   "cell_type": "code",
   "execution_count": null,
   "metadata": {
    "colab": {
     "base_uri": "https://localhost:8080/"
    },
    "executionInfo": {
     "elapsed": 1525,
     "status": "ok",
     "timestamp": 1727113065798,
     "user": {
      "displayName": "eman Raslan",
      "userId": "05614135367355415925"
     },
     "user_tz": -180
    },
    "id": "xVFMxwAU9TLT",
    "outputId": "94ab0671-8877-489f-ff3a-42de08a34522"
   },
   "outputs": [
    {
     "name": "stdout",
     "output_type": "stream",
     "text": [
      "Downloading data from https://storage.googleapis.com/tensorflow/tf-keras-datasets/mnist.npz\n",
      "\u001b[1m11490434/11490434\u001b[0m \u001b[32m━━━━━━━━━━━━━━━━━━━━\u001b[0m\u001b[37m\u001b[0m \u001b[1m0s\u001b[0m 0us/step\n"
     ]
    }
   ],
   "source": [
    "# Load MNIST dataset\n",
    "(X_train, y_train), (X_test, y_test) = mnist.load_data()\n",
    "\n",
    "# Normalize the data to values between 0 and 1\n",
    "X_train, X_test = X_train / 255.0, X_test / 255.0"
   ]
  },
  {
   "cell_type": "code",
   "execution_count": null,
   "metadata": {
    "executionInfo": {
     "elapsed": 4,
     "status": "ok",
     "timestamp": 1727113065799,
     "user": {
      "displayName": "eman Raslan",
      "userId": "05614135367355415925"
     },
     "user_tz": -180
    },
    "id": "vSvDMOGg9TLU"
   },
   "outputs": [],
   "source": [
    "# Set hyperparameters\n",
    "learning_rate = 0.001\n",
    "epochs = 10\n",
    "batch_size = 32\n",
    "num_classes = 10"
   ]
  },
  {
   "cell_type": "code",
   "execution_count": null,
   "metadata": {
    "executionInfo": {
     "elapsed": 5,
     "status": "ok",
     "timestamp": 1727113065800,
     "user": {
      "displayName": "eman Raslan",
      "userId": "05614135367355415925"
     },
     "user_tz": -180
    },
    "id": "S9o13OsW9TLV"
   },
   "outputs": [],
   "source": [
    "# Define the FFNN model\n",
    "def create_ffnn_model(input_shape, num_classes):\n",
    "    model = Sequential()\n",
    "    model.add(Flatten(input_shape=input_shape))  # Flatten the input images (28x28) to a 1D vector\n",
    "    model.add(Dense(128, activation='relu'))     # Fully connected layer with 128 neurons\n",
    "    model.add(Dense(64, activation='relu'))      # Fully connected layer with 64 neurons\n",
    "    model.add(Dense(num_classes, activation='softmax'))  # Output layer with softmax for classification\n",
    "    return model"
   ]
  },
  {
   "cell_type": "code",
   "execution_count": null,
   "metadata": {
    "colab": {
     "base_uri": "https://localhost:8080/",
     "height": 280
    },
    "executionInfo": {
     "elapsed": 92749,
     "status": "ok",
     "timestamp": 1727113159313,
     "user": {
      "displayName": "eman Raslan",
      "userId": "05614135367355415925"
     },
     "user_tz": -180
    },
    "id": "ZWbHKm929TLW",
    "outputId": "8036db8f-7f63-40cb-d6dd-6a8c9117b0ec"
   },
   "outputs": [
    {
     "name": "stderr",
     "output_type": "stream",
     "text": [
      "/usr/local/lib/python3.10/dist-packages/keras/src/layers/reshaping/flatten.py:37: UserWarning: Do not pass an `input_shape`/`input_dim` argument to a layer. When using Sequential models, prefer using an `Input(shape)` object as the first layer in the model instead.\n",
      "  super().__init__(**kwargs)\n"
     ]
    },
    {
     "name": "stdout",
     "output_type": "stream",
     "text": [
      "Epoch 1/10 - Train Accuracy: 0.9305, Validation Accuracy: 0.9620\n",
      "Epoch 2/10 - Train Accuracy: 0.9696, Validation Accuracy: 0.9676\n",
      "Epoch 3/10 - Train Accuracy: 0.9778, Validation Accuracy: 0.9729\n",
      "Epoch 4/10 - Train Accuracy: 0.9835, Validation Accuracy: 0.9750\n",
      "Epoch 5/10 - Train Accuracy: 0.9866, Validation Accuracy: 0.9719\n",
      "Epoch 6/10 - Train Accuracy: 0.9880, Validation Accuracy: 0.9747\n",
      "Epoch 7/10 - Train Accuracy: 0.9909, Validation Accuracy: 0.9783\n",
      "Epoch 8/10 - Train Accuracy: 0.9924, Validation Accuracy: 0.9783\n",
      "Epoch 9/10 - Train Accuracy: 0.9931, Validation Accuracy: 0.9775\n"
     ]
    },
    {
     "name": "stderr",
     "output_type": "stream",
     "text": [
      "WARNING:absl:You are saving your model as an HDF5 file via `model.save()` or `keras.saving.save_model(model)`. This file format is considered legacy. We recommend using instead the native Keras format, e.g. `model.save('my_model.keras')` or `keras.saving.save_model(model, 'my_model.keras')`. \n"
     ]
    },
    {
     "name": "stdout",
     "output_type": "stream",
     "text": [
      "Epoch 10/10 - Train Accuracy: 0.9936, Validation Accuracy: 0.9778\n"
     ]
    },
    {
     "data": {
      "text/html": [
       "<pre style=\"white-space:pre;overflow-x:auto;line-height:normal;font-family:Menlo,'DejaVu Sans Mono',consolas,'Courier New',monospace\"></pre>\n"
      ],
      "text/plain": []
     },
     "metadata": {},
     "output_type": "display_data"
    },
    {
     "name": "stdout",
     "output_type": "stream",
     "text": [
      "Run complete. Check MLflow UI for details.\n"
     ]
    }
   ],
   "source": [
    "# Start an MLflow run\n",
    "with mlflow.start_run():\n",
    "    # Log hyperparameters\n",
    "    mlflow.log_param(\"learning_rate\", learning_rate)\n",
    "    mlflow.log_param(\"epochs\", epochs)\n",
    "    mlflow.log_param(\"batch_size\", batch_size)\n",
    "\n",
    "    # Create and compile the model\n",
    "    model = create_ffnn_model(input_shape=(28, 28), num_classes=num_classes)\n",
    "    model.compile(optimizer=Adam(learning_rate=learning_rate),\n",
    "                  loss=SparseCategoricalCrossentropy(),\n",
    "                  metrics=['accuracy'])\n",
    "\n",
    "    # Train the model and log the metrics for each epoch\n",
    "    for epoch in range(epochs):\n",
    "        history = model.fit(X_train, y_train, batch_size=batch_size, epochs=1, validation_data=(X_test, y_test), verbose=0)\n",
    "\n",
    "        # Get accuracy and loss from history and log them\n",
    "        train_loss = history.history['loss'][0]\n",
    "        train_acc = history.history['accuracy'][0]\n",
    "        val_loss = history.history['val_loss'][0]\n",
    "        val_acc = history.history['val_accuracy'][0]\n",
    "\n",
    "        # Log metrics\n",
    "        mlflow.log_metric(\"train_loss\", train_loss, step=epoch)\n",
    "        mlflow.log_metric(\"train_accuracy\", train_acc, step=epoch)\n",
    "        mlflow.log_metric(\"val_loss\", val_loss, step=epoch)\n",
    "        mlflow.log_metric(\"val_accuracy\", val_acc, step=epoch)\n",
    "\n",
    "        print(f\"Epoch {epoch+1}/{epochs} - Train Accuracy: {train_acc:.4f}, Validation Accuracy: {val_acc:.4f}\")\n",
    "\n",
    "    # Save the model as an artifact\n",
    "    model_filename = \"ffnn_mnist_model.h5\"\n",
    "    model.save(model_filename)\n",
    "    mlflow.log_artifact(model_filename)\n",
    "\n",
    "    # Log an additional artifact (e.g., model summary)\n",
    "    with open(\"model_summary.txt\", \"w\") as f:\n",
    "        model.summary(print_fn=lambda x: f.write(x + '\\n'))\n",
    "    mlflow.log_artifact(\"model_summary.txt\")\n",
    "\n",
    "    print(\"Run complete. Check MLflow UI for details.\")\n",
    "\n",
    "# Instructions to view the results in MLflow UI:\n",
    "# After running the script, type \"mlflow ui\" in your terminal to start the UI, and navigate to http://localhost:5000\n"
   ]
  }
 ],
 "metadata": {
  "colab": {
   "provenance": []
  },
  "kernelspec": {
   "display_name": "Python 3",
   "name": "python3"
  },
  "language_info": {
   "codemirror_mode": {
    "name": "ipython",
    "version": 3
   },
   "file_extension": ".py",
   "mimetype": "text/x-python",
   "name": "python",
   "nbconvert_exporter": "python",
   "pygments_lexer": "ipython3",
   "version": "3.12.2"
  }
 },
 "nbformat": 4,
 "nbformat_minor": 0
}
